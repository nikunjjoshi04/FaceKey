{
 "cells": [
  {
   "cell_type": "code",
   "execution_count": 2,
   "metadata": {},
   "outputs": [],
   "source": [
    "import numpy as np\n",
    "import cv2 as cv\n",
    "import math as m\n",
    "import os\n",
    "from mtcnn.mtcnn import MTCNN\n",
    "detector = MTCNN()"
   ]
  },
  {
   "cell_type": "code",
   "execution_count": 3,
   "metadata": {},
   "outputs": [],
   "source": [
    "def c_ang(img,c,r,w,h,color,thik):\n",
    "#     print(img,c,r,w,h,color,thik)\n",
    "    \n",
    "    cv.line(img, (c,r), (c+m.floor((w/4)+(w/2)/4),r), color, thik)\n",
    "    cv.line(img, (c+m.floor((w/2)+(w/2)/4),r), (c+w,r), color, thik)\n",
    "    \n",
    "    cv.line(img, (c,r), (c,r+m.floor((h/4)+(h/2)/4)), color, thik)\n",
    "    cv.line(img, (c,r+m.floor((h/2)+(h/2)/4)), (c,r+h), color, thik)\n",
    "    \n",
    "    cv.line(img, (c,r+h), (c+m.floor((w/4)+(w/2)/4),r+h), color, thik)\n",
    "    cv.line(img, (c+m.floor((w/2)+(w/2)/4),r+h), (c+w,r+h), color, thik)\n",
    "    \n",
    "    cv.line(img, (c+w,r), (c+w,r+m.floor((h/4)+(h/2)/4)), color, thik)\n",
    "    cv.line(img, (c+w,r+m.floor((w/2)+(w/2)/4)), (c+w,r+h), color, thik)"
   ]
  },
  {
   "cell_type": "code",
   "execution_count": 4,
   "metadata": {},
   "outputs": [
    {
     "name": "stdout",
     "output_type": "stream",
     "text": [
      "WARNING:tensorflow:From /home/quixom30/.local/lib/python3.7/site-packages/keras/backend/tensorflow_backend.py:422: The name tf.global_variables is deprecated. Please use tf.compat.v1.global_variables instead.\n",
      "\n"
     ]
    }
   ],
   "source": [
    "color = (160,160,160)\n",
    "thik = 2\n",
    "i=0\n",
    "cap = cv.VideoCapture(0)\n",
    "if not cap.isOpened():\n",
    "    print(\"Cannot open camera\")\n",
    "    exit()\n",
    "while True:\n",
    "    ret, frame = cap.read()\n",
    "    \n",
    "    if not ret:\n",
    "        print(\"Can't receive frame (stream end?). Exiting ...\")\n",
    "        break\n",
    "#     gray = cv.cvtColor(frame, cv.COLOR_BGR2GRAY)\n",
    "#     detect_face = face_cascade.detectMultiScale(gray)\n",
    "    faces = detector.detect_faces(frame)\n",
    "    for result in faces:\n",
    "        x, y, w, r = result['box']\n",
    "#         c_ang(frame,x,y,w,r,color,thik)\n",
    "        cv.rectangle(frame, (x, y), (x+w, y+r), (0, 0, 255), thik )\n",
    "        for key, value in result['keypoints'].items():\n",
    "            cv.circle(frame, value, 2, (0, 0, 255))\n",
    "            \n",
    "    \n",
    "#     for (c, r, w, h) in detect_face:\n",
    "#         c_ang(frame,c,r,w,h,color,thik)\n",
    "    \n",
    "    cv.imshow(\"frame\", frame)\n",
    "    if cv.waitKey(1) == ord('q'):   \n",
    "        break\n",
    "        \n",
    "cap.release()\n",
    "cv.destroyAllWindows()"
   ]
  }
 ],
 "metadata": {
  "kernelspec": {
   "display_name": "Python 3",
   "language": "python",
   "name": "python3"
  },
  "language_info": {
   "codemirror_mode": {
    "name": "ipython",
    "version": 3
   },
   "file_extension": ".py",
   "mimetype": "text/x-python",
   "name": "python",
   "nbconvert_exporter": "python",
   "pygments_lexer": "ipython3",
   "version": "3.7.5"
  }
 },
 "nbformat": 4,
 "nbformat_minor": 4
}
