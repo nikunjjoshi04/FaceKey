{
 "cells": [
  {
   "cell_type": "code",
   "execution_count": 3,
   "metadata": {},
   "outputs": [],
   "source": [
    "import numpy as np\n",
    "import cv2 as cv"
   ]
  },
  {
   "cell_type": "code",
   "execution_count": 30,
   "metadata": {},
   "outputs": [],
   "source": [
    "# img = np.zeros((521, 521, 3), np.uint8)\n",
    "\n",
    "img = cv.imread('Hrithik.jpeg',1)\n",
    "\n",
    "color = (0,255,0)\n",
    "thik = 2\n",
    "# cv.line(img, (27,10), (27,170), color, thik)\n",
    "cv.line(img, (27,10), (27,80), color, thik)\n",
    "cv.line(img, (27,100), (27,170), color, thik)\n",
    "\n",
    "# cv.line(img, (27,170), (160,170), color, thik)\n",
    "cv.line(img, (27,170), (80,170), color, thik)\n",
    "cv.line(img, (100,170), (160,170), color, thik)\n",
    "\n",
    "# cv.line(img, (160,10), (160,170), color, thik)\n",
    "cv.line(img, (160,10), (160,80), color, thik)\n",
    "cv.line(img, (160,100), (160,170), color, thik)\n",
    "\n",
    "# cv.line(img, (27,10), (160,10), color, thik)\n",
    "cv.line(img, (27,10), (80,10), color, thik)\n",
    "cv.line(img, (100,10), (160,10), color, thik)\n",
    "# cv.imshow('Hrithik', img)\n",
    "cv.imshow('Hrithik', img)\n",
    "\n",
    "cv.waitKey(0)\n",
    "cv.destroyAllWindows()"
   ]
  }
 ],
 "metadata": {
  "kernelspec": {
   "display_name": "Python 3",
   "language": "python",
   "name": "python3"
  },
  "language_info": {
   "codemirror_mode": {
    "name": "ipython",
    "version": 3
   },
   "file_extension": ".py",
   "mimetype": "text/x-python",
   "name": "python",
   "nbconvert_exporter": "python",
   "pygments_lexer": "ipython3",
   "version": "3.7.5"
  }
 },
 "nbformat": 4,
 "nbformat_minor": 4
}
