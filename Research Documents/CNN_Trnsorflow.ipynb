{
 "cells": [
  {
   "cell_type": "code",
   "execution_count": 4,
   "metadata": {},
   "outputs": [
    {
     "name": "stdout",
     "output_type": "stream",
     "text": [
      "Extracting /tmp/data/train-images-idx3-ubyte.gz\n",
      "Extracting /tmp/data/train-labels-idx1-ubyte.gz\n",
      "Extracting /tmp/data/t10k-images-idx3-ubyte.gz\n",
      "Extracting /tmp/data/t10k-labels-idx1-ubyte.gz\n"
     ]
    }
   ],
   "source": [
    "import tensorflow as tf\n",
    "from tensorflow.examples.tutorials.mnist import input_data\n",
    "mnist = input_data.read_data_sets('/tmp/data', one_hot=True)"
   ]
  },
  {
   "cell_type": "code",
   "execution_count": 5,
   "metadata": {},
   "outputs": [],
   "source": [
    "batch_size = 128\n",
    "n_classes = 10\n",
    "\n",
    "x = tf.placeholder(tf.float32, [None, 784])\n",
    "y = tf.placeholder(tf.float32, [None, n_classes])"
   ]
  },
  {
   "cell_type": "code",
   "execution_count": 9,
   "metadata": {},
   "outputs": [],
   "source": [
    "def conv2d(x, W):\n",
    "    return tf.nn.conv2d(x, W, strides=[1, 1, 1, 1], padding='SAME')\n",
    "\n",
    "def maxpool2d(x):\n",
    "    return tf.nn.max_pool(x, ksize=[1, 2, 2, 1], strides=[1, 2, 2, 1], padding='SAME')"
   ]
  },
  {
   "cell_type": "code",
   "execution_count": 14,
   "metadata": {},
   "outputs": [],
   "source": [
    "def convolutional_neural_network(x):#, keep_rate):\n",
    "    weights = {\n",
    "        \"W_conv1\": tf.Variable(tf.random_normal([5, 5, 1, 32])),\n",
    "        \n",
    "        \"W_conv2\": tf.Variable(tf.random_normal([5, 5, 32, 64])),\n",
    "        \n",
    "        \"W_fc\": tf.Variable(tf.random_normal([7*7*64, 1024])),\n",
    "        \n",
    "        \"out\": tf.Variable(tf.random_normal([1024, n_classes]))\n",
    "    }\n",
    "    \n",
    "    biases = {\n",
    "        \"b_conv1\": tf.Variable(tf.random_normal([32])),\n",
    "        \n",
    "        \"b_conv2\": tf.Variable(tf.random_normal([64])),\n",
    "        \n",
    "        \"b_fc\": tf.Variable(tf.random_normal([1024])),\n",
    "        \n",
    "        \"out\": tf.Variable(tf.random_normal([n_classes]))\n",
    "    }\n",
    "    \n",
    "    x = tf.reshape(x, shape=[-1, 28, 28, 1])\n",
    "    \n",
    "    conv1 = tf.nn.relu(conv2d(x, weights[\"W_conv1\"] + biases[\"b_conv1\"]))\n",
    "    conv1 = maxpool2d(conv1)\n",
    "    \n",
    "    conv2 = tf.nn.relu(conv2d(conv1, weights[\"W_conv2\"] + biases[\"b_conv2\"]))\n",
    "    conv2 = maxpool2d(conv2)\n",
    "    \n",
    "    fc = tf.reshape(conv2, [-1, 7*7*64])\n",
    "    fc = tf.nn.relu(tf.matmul(fc, weights[\"W_fc\"]) + biases[\"b_fc\"])\n",
    "    \n",
    "    \n",
    "    output = tf.matmul(fc, weights[\"out\"]) + biases[\"out\"]\n",
    "    \n",
    "    return output\n",
    "    \n",
    "    "
   ]
  },
  {
   "cell_type": "code",
   "execution_count": 19,
   "metadata": {},
   "outputs": [],
   "source": [
    "def train_neural_network(x):\n",
    "    prediction = convolutional_neural_network(x)\n",
    "    cost = tf.reduce_mean(tf.nn.softmax_cross_entropy_with_logits(logits=prediction, labels=y))\n",
    "    \n",
    "    optimizer = tf.train.AdamOptimizer().minimize(cost)\n",
    "    \n",
    "    hm_epochs = 5\n",
    "    \n",
    "    with tf.Session() as sess:\n",
    "        sess.run(tf.global_variables_initializer())\n",
    "        for epoch in range(hm_epochs):\n",
    "            epoch_loss = 0\n",
    "            for _ in range(int(mnist.train.num_examples/batch_size)):\n",
    "                epoch_x, epoch_y = mnist.train.next_batch(batch_size)\n",
    "                _, c = sess.run([optimizer, cost], feed_dict={x: epoch_x, y: epoch_y})\n",
    "                epoch_loss += c\n",
    "                \n",
    "            print(\"Epoch:- \", epoch, \" complete out of:- \", hm_epochs, \" Loss:- \", epoch_loss)\n",
    "        \n",
    "        correct = tf.equal(tf.argmax(prediction, 1), tf.argmax(y, 1))\n",
    "        accuracy = tf.reduce_mean(tf.cast(correct, 'float'))\n",
    "        \n",
    "        print(\"Accuracy:- \", accuracy.eval({x: mnist.test.images, y: mnist.test.labels}))"
   ]
  },
  {
   "cell_type": "code",
   "execution_count": 20,
   "metadata": {},
   "outputs": [
    {
     "name": "stdout",
     "output_type": "stream",
     "text": [
      "Epoch:-  0  complete out of:-  5  Loss:-  51973982.98046875\n",
      "Epoch:-  1  complete out of:-  5  Loss:-  4971929.3740234375\n",
      "Epoch:-  2  complete out of:-  5  Loss:-  3781071.392211914\n",
      "Epoch:-  3  complete out of:-  5  Loss:-  3119195.8729248047\n",
      "Epoch:-  4  complete out of:-  5  Loss:-  2406415.8009643555\n",
      "Accuracy:-  0.9414\n"
     ]
    }
   ],
   "source": [
    "train_neural_network(x)\n",
    "# Accuracy:-  0.9571 on 10 epochs\n",
    "# Accuracy:-  0.9414 on 5 epochs"
   ]
  }
 ],
 "metadata": {
  "kernelspec": {
   "display_name": "Python 3",
   "language": "python",
   "name": "python3"
  },
  "language_info": {
   "codemirror_mode": {
    "name": "ipython",
    "version": 3
   },
   "file_extension": ".py",
   "mimetype": "text/x-python",
   "name": "python",
   "nbconvert_exporter": "python",
   "pygments_lexer": "ipython3",
   "version": "3.7.5"
  }
 },
 "nbformat": 4,
 "nbformat_minor": 4
}
