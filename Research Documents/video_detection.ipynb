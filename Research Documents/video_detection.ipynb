{
 "cells": [
  {
   "cell_type": "code",
   "execution_count": 12,
   "metadata": {},
   "outputs": [],
   "source": [
    "import numpy as np\n",
    "import cv2 as cv\n",
    "import math as m\n",
    "import os\n",
    "a = cv.dnn"
   ]
  },
  {
   "cell_type": "code",
   "execution_count": 13,
   "metadata": {},
   "outputs": [],
   "source": [
    "def c_ang(img,c,r,w,h,color,thik):\n",
    "#     print(img,c,r,w,h,color,thik)\n",
    "    \n",
    "    cv.line(img, (c,r), (c+m.floor((w/4)+(w/2)/4),r), color, thik)\n",
    "    cv.line(img, (c+m.floor((w/2)+(w/2)/4),r), (c+w,r), color, thik)\n",
    "    \n",
    "    cv.line(img, (c,r), (c,r+m.floor((h/4)+(h/2)/4)), color, thik)\n",
    "    cv.line(img, (c,r+m.floor((h/2)+(h/2)/4)), (c,r+h), color, thik)\n",
    "    \n",
    "    cv.line(img, (c,r+h), (c+m.floor((w/4)+(w/2)/4),r+h), color, thik)\n",
    "    cv.line(img, (c+m.floor((w/2)+(w/2)/4),r+h), (c+w,r+h), color, thik)\n",
    "    \n",
    "    cv.line(img, (c+w,r), (c+w,r+m.floor((h/4)+(h/2)/4)), color, thik)\n",
    "    cv.line(img, (c+w,r+m.floor((w/2)+(w/2)/4)), (c+w,r+h), color, thik)"
   ]
  },
  {
   "cell_type": "code",
   "execution_count": 22,
   "metadata": {},
   "outputs": [],
   "source": [
    "color = (160,160,160)\n",
    "thik = 2\n",
    "i=0\n",
    "\n",
    "# face_cascade = cv.CascadeClassifier('/home/quixom30/.local/lib/python3.7/site-packages/cv2/data/haarcascade_frontalface_alt.xml')\n",
    "# face_cascade = cv.CascadeClassifier('/home/quixom30/Downloads/frontalFace10/haarcascade_frontalface_alt_tree.xml')\n",
    "face_cascade = cv.CascadeClassifier('/home/quixom30/Downloads/oneEye22x22/haarcascade eye.xml')\n",
    "# face_cascade = cv.CascadeClassifier('/home/quixom30/Downloads/Nose25x15.1/Nariz.xml')\n",
    "\n",
    "\n",
    "cap = cv.VideoCapture(0)\n",
    "if not cap.isOpened():\n",
    "    print(\"Cannot open camera\")\n",
    "    exit()\n",
    "while True:\n",
    "    ret, frame = cap.read()\n",
    "    \n",
    "    if not ret:\n",
    "        print(\"Can't receive frame (stream end?). Exiting ...\")\n",
    "        break\n",
    "    gray = cv.cvtColor(frame, cv.COLOR_BGR2GRAY)\n",
    "    detect_face = face_cascade.detectMultiScale(gray)\n",
    "    \n",
    "    for (c, r, w, h) in detect_face:\n",
    "        c_ang(frame,c,r,w,h,color,thik)\n",
    "    \n",
    "    cv.imshow(\"frame\", frame)\n",
    "    if cv.waitKey(1) == ord('q'):   \n",
    "        break\n",
    "        \n",
    "cap.release()\n",
    "cv.destroyAllWindows()"
   ]
  }
 ],
 "metadata": {
  "kernelspec": {
   "display_name": "Python 3",
   "language": "python",
   "name": "python3"
  },
  "language_info": {
   "codemirror_mode": {
    "name": "ipython",
    "version": 3
   },
   "file_extension": ".py",
   "mimetype": "text/x-python",
   "name": "python",
   "nbconvert_exporter": "python",
   "pygments_lexer": "ipython3",
   "version": "3.7.5"
  }
 },
 "nbformat": 4,
 "nbformat_minor": 4
}
