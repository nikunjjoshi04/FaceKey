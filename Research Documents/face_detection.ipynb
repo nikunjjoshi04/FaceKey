{
 "cells": [
  {
   "cell_type": "code",
   "execution_count": 1,
   "metadata": {},
   "outputs": [],
   "source": [
    "import numpy as np\n",
    "import cv2 as cv\n",
    "import math as m\n",
    "import os"
   ]
  },
  {
   "cell_type": "code",
   "execution_count": 2,
   "metadata": {},
   "outputs": [],
   "source": [
    "def c_ang(img,c,r,w,h,color,thik):\n",
    "#     print(img,c,r,w,h,color,thik)\n",
    "    \n",
    "    cv.line(img, (c,r), (c+m.floor((w/4)+(w/2)/4),r), color, thik)\n",
    "    cv.line(img, (c+m.floor((w/2)+(w/2)/4),r), (c+w,r), color, thik)\n",
    "    \n",
    "    cv.line(img, (c,r), (c,r+m.floor((h/4)+(h/2)/4)), color, thik)\n",
    "    cv.line(img, (c,r+m.floor((h/2)+(h/2)/4)), (c,r+h), color, thik)\n",
    "    \n",
    "    cv.line(img, (c,r+h), (c+m.floor((w/4)+(w/2)/4),r+h), color, thik)\n",
    "    cv.line(img, (c+m.floor((w/2)+(w/2)/4),r+h), (c+w,r+h), color, thik)\n",
    "    \n",
    "    cv.line(img, (c+w,r), (c+w,r+m.floor((h/4)+(h/2)/4)), color, thik)\n",
    "    cv.line(img, (c+w,r+m.floor((w/2)+(w/2)/4)), (c+w,r+h), color, thik)\n",
    "    \n",
    "# c_ang(\"img\",44,60,97,97,22,2)"
   ]
  },
  {
   "cell_type": "code",
   "execution_count": 91,
   "metadata": {},
   "outputs": [],
   "source": [
    "# img = cv.imread('Hrithik.jpeg',0)\n",
    "img_name='Nikunj.jpeg'\n",
    "path = '/home/quixom30/pyton_idle/img'\n",
    "img = cv.imread(img_name,1)\n",
    "img1 = cv.cvtColor(img, cv.COLOR_BGR2GRAY)\n",
    "\n",
    "face_cascade = cv.CascadeClassifier('/home/quixom30/.local/lib/python3.7/site-packages/cv2/data/haarcascade_frontalface_alt.xml')\n",
    "detect_face = face_cascade.detectMultiScale(img1)\n",
    "\n",
    "color = (0,255,0)\n",
    "thik = 2\n",
    "i=0\n",
    "\n",
    "for (c, r, w, h) in detect_face:\n",
    "    c_ang(img,c,r,w,h,color,thik)\n",
    "    \n",
    "    sub_face = img[r:r+h, c:c+w]\n",
    "    name = img_name + str(i) + '.jpeg'\n",
    "    cv.imwrite(os.path.join(path,name), sub_face)\n",
    "    i = i + 1\n",
    "    \n",
    "cv.namedWindow(\"Nikunj\", cv.WINDOW_NORMAL)\n",
    "cv.imshow('Nikunj', img)\n",
    "cv.waitKey(0)\n",
    "cv.destroyAllWindows()"
   ]
  },
  {
   "cell_type": "code",
   "execution_count": null,
   "metadata": {},
   "outputs": [],
   "source": []
  }
 ],
 "metadata": {
  "kernelspec": {
   "display_name": "Python 3",
   "language": "python",
   "name": "python3"
  },
  "language_info": {
   "codemirror_mode": {
    "name": "ipython",
    "version": 3
   },
   "file_extension": ".py",
   "mimetype": "text/x-python",
   "name": "python",
   "nbconvert_exporter": "python",
   "pygments_lexer": "ipython3",
   "version": "3.7.5"
  }
 },
 "nbformat": 4,
 "nbformat_minor": 4
}
