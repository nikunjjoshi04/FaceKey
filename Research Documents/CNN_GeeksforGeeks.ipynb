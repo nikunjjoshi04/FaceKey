{
 "cells": [
  {
   "cell_type": "code",
   "execution_count": 19,
   "metadata": {},
   "outputs": [
    {
     "data": {
      "text/plain": [
       "'Running the training and the testing in the dataset for our model'"
      ]
     },
     "execution_count": 19,
     "metadata": {},
     "output_type": "execute_result"
    }
   ],
   "source": [
    "# Python program to create \n",
    "# Image Classifier using CNN \n",
    "\n",
    "# Importing the required libraries \n",
    "import cv2 \n",
    "import os \n",
    "import numpy as np \n",
    "from random import shuffle \n",
    "from tqdm import tqdm \n",
    "\n",
    "'''Setting up the env'''\n",
    "\n",
    "TRAIN_DIR = '/home/quixom30/Projects/Deep_Learning/mohanlal-mammooty-images'\n",
    "TEST_DIR = '/home/quixom30/Projects/Deep_Learning/dogs-vs-cats/my_test1'\n",
    "IMG_SIZE = 50\n",
    "LR = 1e-3\n",
    "\n",
    "\n",
    "'''Setting up the model which will help with tensorflow models'''\n",
    "MODEL_NAME = 'dogsvscats-{}-{}.model'.format(LR, '6conv-basic') \n",
    "\n",
    "'''Labelling the dataset'''\n",
    "def label_img(img): \n",
    "\tword_label = img.split('.')[-3] \n",
    "\t# DIY One hot encoder \n",
    "\tif word_label == 'mohanlal': return [0, 1] \n",
    "\telif word_label == 'mammooty': return [1, 0] \n",
    "\n",
    "'''Creating the training data'''\n",
    "def create_train_data(): \n",
    "\t# Creating an empty list where we should store the training data \n",
    "\t# after a little preprocessing of the data \n",
    "\ttraining_data = [] \n",
    "\n",
    "\t# tqdm is only used for interactive loading \n",
    "\t# loading the training data \n",
    "\tfor img in tqdm(os.listdir(TRAIN_DIR)): \n",
    "\n",
    "\t\t# labeling the images \n",
    "\t\tlabel = label_img(img) \n",
    "\n",
    "\t\tpath = os.path.join(TRAIN_DIR, img) \n",
    "\n",
    "\t\t# loading the image from the path and then converting them into \n",
    "\t\t# greyscale for easier covnet prob \n",
    "\t\timg = cv2.imread(path, cv2.IMREAD_GRAYSCALE) \n",
    "\n",
    "\t\t# resizing the image for processing them in the covnet \n",
    "\t\timg = cv2.resize(img, (IMG_SIZE, IMG_SIZE)) \n",
    "\n",
    "\t\t# final step-forming the training data list with numpy array of the images \n",
    "\t\ttraining_data.append([np.array(img), np.array(label)]) \n",
    "\n",
    "\t# shuffling of the training data to preserve the random state of our data \n",
    "\tshuffle(training_data) \n",
    "\n",
    "\t# saving our trained data for further uses if required \n",
    "\tnp.save('train_data.npy', training_data) \n",
    "\treturn training_data \n",
    "\n",
    "'''Processing the given test data'''\n",
    "# Almost same as processing the training data but \n",
    "# we dont have to label it. \n",
    "def process_test_data(): \n",
    "\ttesting_data = [] \n",
    "\tfor img in tqdm(os.listdir(TEST_DIR)): \n",
    "\t\tpath = os.path.join(TEST_DIR, img) \n",
    "\t\timg_num = img.split('.')[0] \n",
    "\t\timg = cv2.imread(path, cv2.IMREAD_GRAYSCALE) \n",
    "\t\timg = cv2.resize(img, (IMG_SIZE, IMG_SIZE)) \n",
    "\t\ttesting_data.append([np.array(img), img_num]) \n",
    "\t\t\n",
    "\tshuffle(testing_data) \n",
    "\tnp.save('test_data.npy', testing_data) \n",
    "\treturn testing_data \n",
    "\n",
    "'''Running the training and the testing in the dataset for our model'''\n"
   ]
  },
  {
   "cell_type": "code",
   "execution_count": 20,
   "metadata": {},
   "outputs": [
    {
     "name": "stderr",
     "output_type": "stream",
     "text": [
      "100%|██████████| 5058/5058 [00:20<00:00, 241.31it/s]\n"
     ]
    },
    {
     "name": "stdout",
     "output_type": "stream",
     "text": [
      "<class 'list'>\n"
     ]
    }
   ],
   "source": [
    "train_data = create_train_data() \n",
    "print(type(train_data))"
   ]
  },
  {
   "cell_type": "code",
   "execution_count": 21,
   "metadata": {},
   "outputs": [
    {
     "name": "stdout",
     "output_type": "stream",
     "text": [
      "Training Step: 719  | total loss: \u001b[1m\u001b[32m0.36039\u001b[0m\u001b[0m | time: 6.231s\n",
      "| Adam | epoch: 010 | loss: 0.36039 - acc: 0.8580 -- iter: 4544/4558\n",
      "Training Step: 720  | total loss: \u001b[1m\u001b[32m0.34840\u001b[0m\u001b[0m | time: 7.328s\n",
      "| Adam | epoch: 010 | loss: 0.34840 - acc: 0.8628 | val_loss: 0.67357 - val_acc: 0.7020 -- iter: 4558/4558\n",
      "--\n",
      "INFO:tensorflow:/home/quixom30/Projects/Deep_Learning/dogsvscats-0.001-6conv-basic.model is not in all_model_checkpoint_paths. Manually adding it.\n"
     ]
    },
    {
     "data": {
      "text/plain": [
       "'Testing the data'"
      ]
     },
     "execution_count": 21,
     "metadata": {},
     "output_type": "execute_result"
    }
   ],
   "source": [
    "# train_data = np.load('train_data.npy') \n",
    "# test_data = np.load('test_data.npy') \n",
    "'''Creating the neural network using tensorflow'''\n",
    "# Importing the required libraries \n",
    "import tflearn \n",
    "from tflearn.layers.conv import conv_2d, max_pool_2d \n",
    "from tflearn.layers.core import input_data, dropout, fully_connected \n",
    "from tflearn.layers.estimator import regression \n",
    "\n",
    "import tensorflow as tf \n",
    "tf.reset_default_graph() \n",
    "convnet = input_data(shape =[None, IMG_SIZE, IMG_SIZE, 1], name ='input') \n",
    "\n",
    "convnet = conv_2d(convnet, 32, 5, activation ='relu') \n",
    "convnet = max_pool_2d(convnet, 5) \n",
    "\n",
    "convnet = conv_2d(convnet, 64, 5, activation ='relu') \n",
    "convnet = max_pool_2d(convnet, 5) \n",
    "\n",
    "convnet = conv_2d(convnet, 128, 5, activation ='relu') \n",
    "convnet = max_pool_2d(convnet, 5) \n",
    "\n",
    "convnet = conv_2d(convnet, 64, 5, activation ='relu') \n",
    "convnet = max_pool_2d(convnet, 5) \n",
    "\n",
    "convnet = conv_2d(convnet, 32, 5, activation ='relu') \n",
    "convnet = max_pool_2d(convnet, 5) \n",
    "\n",
    "convnet = fully_connected(convnet, 1024, activation ='relu') \n",
    "convnet = dropout(convnet, 0.8) \n",
    "\n",
    "convnet = fully_connected(convnet, 2, activation ='softmax') \n",
    "convnet = regression(convnet, optimizer ='adam', learning_rate = LR, \n",
    "\tloss ='categorical_crossentropy', name ='targets') \n",
    "\n",
    "model = tflearn.DNN(convnet, tensorboard_dir ='log') \n",
    "\n",
    "# Splitting the testing data and training data \n",
    "train = train_data[:-500] \n",
    "test = train_data[-500:] \n",
    "\n",
    "'''Setting up the features and lables'''\n",
    "# X-Features & Y-Labels \n",
    "\n",
    "X = np.array([i[0] for i in train]).reshape(-1, IMG_SIZE, IMG_SIZE, 1) \n",
    "Y = [i[1] for i in train] \n",
    "test_x = np.array([i[0] for i in test]).reshape(-1, IMG_SIZE, IMG_SIZE, 1) \n",
    "test_y = [i[1] for i in test] \n",
    "\n",
    "'''Fitting the data into our model'''\n",
    "# epoch = 5 taken \n",
    "model.fit(\n",
    "    {'input': X},\n",
    "    {'targets': Y},\n",
    "    n_epoch = 10, \n",
    "    validation_set =(\n",
    "        {'input': test_x},\n",
    "        {'targets': test_y}\n",
    "    ), \n",
    "    snapshot_step = 500,\n",
    "    show_metric = True,\n",
    "    run_id = MODEL_NAME\n",
    ") \n",
    "model.save(MODEL_NAME) \n",
    "\n",
    "'''Testing the data'''\n"
   ]
  },
  {
   "cell_type": "code",
   "execution_count": 22,
   "metadata": {},
   "outputs": [
    {
     "name": "stderr",
     "output_type": "stream",
     "text": [
      "100%|██████████| 6/6 [00:00<00:00, 1042.93it/s]\n"
     ]
    }
   ],
   "source": [
    "test_data = process_test_data() \n",
    "# print(test_data)\n",
    "# print(train_data[:10])"
   ]
  },
  {
   "cell_type": "code",
   "execution_count": 23,
   "metadata": {},
   "outputs": [
    {
     "data": {
      "image/png": "[encoded data removed]",
      "text/plain": [
       "<Figure size 432x288 with 6 Axes>"
      ]
     },
     "metadata": {
      "needs_background": "light"
     },
     "output_type": "display_data"
    }
   ],
   "source": [
    "import matplotlib.pyplot as plt \n",
    "\n",
    "test_data = np.load('test_data.npy', allow_pickle=True) \n",
    "\n",
    "fig = plt.figure() \n",
    "\n",
    "for num, data in enumerate(test_data[:20]): \n",
    "\t# cat: [1, 0] \n",
    "\t# dog: [0, 1] \n",
    "\t\n",
    "\timg_num = data[1] \n",
    "\timg_data = data[0] \n",
    "\t\n",
    "\ty = fig.add_subplot(4, 5, num + 1) \n",
    "\torig = img_data \n",
    "\tdata = img_data.reshape(IMG_SIZE, IMG_SIZE, 1) \n",
    "\n",
    "\t# model_out = model.predict([data])[0] \n",
    "\tmodel_out = model.predict([data])[0] \n",
    "\t\n",
    "\tif np.argmax(model_out) == 1: str_label ='mohanlal'\n",
    "\telse: str_label ='mammooty'\n",
    "\t\t\n",
    "\ty.imshow(orig, cmap ='gray') \n",
    "\tplt.title(str_label) \n",
    "\ty.axes.get_xaxis().set_visible(False) \n",
    "\ty.axes.get_yaxis().set_visible(False) \n",
    "plt.show() "
   ]
  },
  {
   "cell_type": "code",
   "execution_count": null,
   "metadata": {},
   "outputs": [],
   "source": [
    "print('type :--- ', type(X), type(Y), type(test_x), type(test_y), type(train), type(test), type(MODEL_NAME))"
   ]
  }
 ],
 "metadata": {
  "kernelspec": {
   "display_name": "Python 3",
   "language": "python",
   "name": "python3"
  },
  "language_info": {
   "codemirror_mode": {
    "name": "ipython",
    "version": 3
   },
   "file_extension": ".py",
   "mimetype": "text/x-python",
   "name": "python",
   "nbconvert_exporter": "python",
   "pygments_lexer": "ipython3",
   "version": "3.7.5"
  }
 },
 "nbformat": 4,
 "nbformat_minor": 4
}
