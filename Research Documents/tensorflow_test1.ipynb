{
 "cells": [
  {
   "cell_type": "code",
   "execution_count": 6,
   "metadata": {},
   "outputs": [],
   "source": [
    "import tensorflow as tf\n",
    "x1 = tf.constant(5)\n",
    "x2 = tf.constant(5)\n",
    "\n",
    "result = tf.multiply(x1, x2)\n",
    "\n",
    "# sess = tf.Session()\n",
    "\n",
    "# print(sess.run(result))\n",
    "# sess.close()"
   ]
  },
  {
   "cell_type": "code",
   "execution_count": 11,
   "metadata": {},
   "outputs": [
    {
     "name": "stdout",
     "output_type": "stream",
     "text": [
      "25\n"
     ]
    }
   ],
   "source": [
    "with tf.Session() as sess:\n",
    "    output = sess.run(result)\n",
    "    print(output)\n"
   ]
  },
  {
   "cell_type": "code",
   "execution_count": 15,
   "metadata": {},
   "outputs": [
    {
     "name": "stdout",
     "output_type": "stream",
     "text": [
      "[[3. 3.]]\n",
      "[[2.]\n",
      " [2.]]\n",
      "[[12.]]\n"
     ]
    }
   ],
   "source": [
    "with tf.Session() as sess:\n",
    "    m1 = tf.constant([[3., 3.]])\n",
    "    m2 = tf.constant([[2.], [2.]])\n",
    "    product = tf.matmul(m1, m2)\n",
    "    output = sess.run(product)\n",
    "    print(sess.run(m1))\n",
    "    print(sess.run(m2))\n",
    "    print(output)"
   ]
  }
 ],
 "metadata": {
  "kernelspec": {
   "display_name": "Python 3",
   "language": "python",
   "name": "python3"
  },
  "language_info": {
   "codemirror_mode": {
    "name": "ipython",
    "version": 3
   },
   "file_extension": ".py",
   "mimetype": "text/x-python",
   "name": "python",
   "nbconvert_exporter": "python",
   "pygments_lexer": "ipython3",
   "version": "3.7.5"
  }
 },
 "nbformat": 4,
 "nbformat_minor": 4
}
